{
 "cells": [
  {
   "cell_type": "code",
   "execution_count": 1,
   "id": "4e275e1d",
   "metadata": {},
   "outputs": [],
   "source": [
    "import numpy as np\n",
    "import numpy.typing as npt\n",
    "import matplotlib.pyplot as plt\n",
    "from scipy.ndimage import rotate\n",
    "from skimage.transform import rotate"
   ]
  },
  {
   "cell_type": "code",
   "execution_count": 2,
   "id": "6db882bf",
   "metadata": {},
   "outputs": [],
   "source": [
    "l = 256  # Length of the image\n",
    "c = l // 2  # Center of the image\n",
    "ws = l // 16  # Half of window length\n",
    "\n",
    "original = np.zeros((l, l))\n",
    "original[\n",
    "    c - ws : c + ws,\n",
    "    c - ws : c + ws,\n",
    "] = 1"
   ]
  },
  {
   "cell_type": "code",
   "execution_count": 3,
   "id": "adcdef9a",
   "metadata": {},
   "outputs": [],
   "source": [
    "def fft_magnitude(image):\n",
    "    fft = np.fft.fft2(image)\n",
    "    fft = np.fft.fftshift(fft)\n",
    "    return np.abs(fft)"
   ]
  },
  {
   "cell_type": "code",
   "execution_count": null,
   "id": "a6c63381",
   "metadata": {},
   "outputs": [],
   "source": [
    "fig, axs = plt.subplots(3, 2, figsize=(10, 20))\n",
    "axs = axs.flatten()\n",
    "\n",
    "axs[0].imshow(original, cmap=\"gray\")\n",
    "axs[1].imshow(fft_magnitude(original), cmap=\"gray\")\n",
    "\n",
    "rotated_20 = rotate(original, 20)\n",
    "axs[2].imshow(rotated_20, cmap=\"gray\")\n",
    "axs[3].imshow(fft_magnitude(rotated_20), cmap=\"gray\")\n",
    "\n",
    "rotated_330 = rotate(original, 330)\n",
    "axs[4].imshow(rotated_330, cmap=\"gray\")\n",
    "axs[5].imshow(fft_magnitude(rotated_330), cmap=\"gray\")\n",
    "\n",
    "plt.show()"
   ]
  }
 ],
 "metadata": {
  "kernelspec": {
   "display_name": ".venv",
   "language": "python",
   "name": "python3"
  },
  "language_info": {
   "codemirror_mode": {
    "name": "ipython",
    "version": 3
   },
   "file_extension": ".py",
   "mimetype": "text/x-python",
   "name": "python",
   "nbconvert_exporter": "python",
   "pygments_lexer": "ipython3",
   "version": "3.13.5"
  }
 },
 "nbformat": 4,
 "nbformat_minor": 5
}
